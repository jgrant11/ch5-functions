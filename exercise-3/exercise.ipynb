{
 "cells": [
  {
   "cell_type": "markdown",
   "metadata": {},
   "source": [
    "# Exercise 3\n",
    "Add the specified code for each code cell, running the cells _in order_."
   ]
  },
  {
   "cell_type": "markdown",
   "metadata": {},
   "source": [
    "Define a function `add_three` that takes a single argument and returns a value 3 greater than the input."
   ]
  },
  {
   "cell_type": "code",
   "execution_count": 3,
   "metadata": {},
   "outputs": [],
   "source": [
    "def add_three(input):\n",
    "    return 3 + input\n",
    " "
   ]
  },
  {
   "cell_type": "markdown",
   "metadata": {},
   "source": [
    "Create and output a variable `ten` that is the result of passing `7` to your `add_three()` function."
   ]
  },
  {
   "cell_type": "code",
   "execution_count": 4,
   "metadata": {},
   "outputs": [],
   "source": [
    "ten = add_three(7)"
   ]
  },
  {
   "cell_type": "markdown",
   "metadata": {},
   "source": [
    "Create a variable `ten_str` that is the result of passing `\"7\"` to your `add_three()` function. What does this tell you about how the function should be described (e.g., in a doc string)?"
   ]
  },
  {
   "cell_type": "code",
   "execution_count": 5,
   "metadata": {},
   "outputs": [
    {
     "ename": "TypeError",
     "evalue": "unsupported operand type(s) for +: 'int' and 'str'",
     "output_type": "error",
     "traceback": [
      "\u001b[0;31m---------------------------------------------------------------------------\u001b[0m",
      "\u001b[0;31mTypeError\u001b[0m                                 Traceback (most recent call last)",
      "\u001b[0;32m<ipython-input-5-e884bb8d75ca>\u001b[0m in \u001b[0;36m<module>\u001b[0;34m\u001b[0m\n\u001b[0;32m----> 1\u001b[0;31m \u001b[0mten_str\u001b[0m \u001b[0;34m=\u001b[0m \u001b[0madd_three\u001b[0m\u001b[0;34m(\u001b[0m\u001b[0;34m\"7\"\u001b[0m\u001b[0;34m)\u001b[0m\u001b[0;34m\u001b[0m\u001b[0;34m\u001b[0m\u001b[0m\n\u001b[0m",
      "\u001b[0;32m<ipython-input-3-89bc58145fc9>\u001b[0m in \u001b[0;36madd_three\u001b[0;34m(input)\u001b[0m\n\u001b[1;32m      1\u001b[0m \u001b[0;32mdef\u001b[0m \u001b[0madd_three\u001b[0m\u001b[0;34m(\u001b[0m\u001b[0minput\u001b[0m\u001b[0;34m)\u001b[0m\u001b[0;34m:\u001b[0m\u001b[0;34m\u001b[0m\u001b[0;34m\u001b[0m\u001b[0m\n\u001b[0;32m----> 2\u001b[0;31m     \u001b[0;32mreturn\u001b[0m \u001b[0;36m3\u001b[0m \u001b[0;34m+\u001b[0m \u001b[0minput\u001b[0m\u001b[0;34m\u001b[0m\u001b[0;34m\u001b[0m\u001b[0m\n\u001b[0m\u001b[1;32m      3\u001b[0m \u001b[0;34m\u001b[0m\u001b[0m\n",
      "\u001b[0;31mTypeError\u001b[0m: unsupported operand type(s) for +: 'int' and 'str'"
     ]
    }
   ],
   "source": [
    "ten_str = add_three(\"7\")"
   ]
  },
  {
   "cell_type": "markdown",
   "metadata": {},
   "source": [
    "Define a function `imperial_to_metric` that takes in two arguments: a number of feet and a number of inches. The function should return the total length in meters. _Include an appropriate doc string_."
   ]
  },
  {
   "cell_type": "code",
   "execution_count": 18,
   "metadata": {},
   "outputs": [],
   "source": [
    "def imperial_to_metric(ft, inches):\n",
    "    \"\"\"this will take measurements from imperial measurements \n",
    "    and convert them to metric measurements\"\"\"\n",
    "    total = (0.3048*ft) + (0.0254*inches)\n",
    "    return total"
   ]
  },
  {
   "cell_type": "markdown",
   "metadata": {},
   "source": [
    "Create and output variable `height_in_meters` by passing your height in imperial to the `imperial_to_metric()` function."
   ]
  },
  {
   "cell_type": "code",
   "execution_count": 19,
   "metadata": {},
   "outputs": [
    {
     "name": "stdout",
     "output_type": "stream",
     "text": [
      "1.778\n"
     ]
    }
   ],
   "source": [
    "height_in_meters = imperial_to_metric(5,10)\n",
    "print(height_in_meters)"
   ]
  },
  {
   "cell_type": "markdown",
   "metadata": {},
   "source": [
    "Define a function `compare_str_length` that takes in 2 strings, and returns a sentence of the form\n",
    "```\n",
    "\"The difference in string lengths is N\"\n",
    "```\n",
    "Include an appropriate doc string."
   ]
  },
  {
   "cell_type": "code",
   "execution_count": 31,
   "metadata": {},
   "outputs": [],
   "source": [
    "def compare_str_length(sentence_1, sentence_2):\n",
    "    \"\"\"This takes two strings and compares the length of both\"\"\"\n",
    "    difference = len(sentence_1) - len(sentence_2)\n",
    "    compare_str_lengths = \"The difference in string lengths is \"\n",
    "    final = compare_str_lengths + str(abs(difference))\n",
    "    return final"
   ]
  },
  {
   "cell_type": "markdown",
   "metadata": {},
   "source": [
    "Pass two strings of different lengths to your `compare_str_length()` function."
   ]
  },
  {
   "cell_type": "code",
   "execution_count": 33,
   "metadata": {},
   "outputs": [
    {
     "name": "stdout",
     "output_type": "stream",
     "text": [
      "The difference in string lengths is 3\n"
     ]
    }
   ],
   "source": [
    "test_sentence_len = compare_str_length(\"hello there\", \"hi there buddy\")\n",
    "print(test_sentence_len)"
   ]
  },
  {
   "cell_type": "markdown",
   "metadata": {},
   "source": [
    "Define a function `fraction_str()` that takes two parameters, a numerator and a denominator, and outputs a string version of that that fraction (e.g., `\"3/4\"`). Make the parameters be **keyword arguments** with default values of 1."
   ]
  },
  {
   "cell_type": "code",
   "execution_count": 40,
   "metadata": {},
   "outputs": [],
   "source": [
    "def fraction_str(numerator = 1, denominator = 1):\n",
    "    \"\"\"This should take two numbers and put them in a faction\"\"\"\n",
    "    fraction = str(numerator) + \"/\" + str(denominator)\n",
    "    return fraction "
   ]
  },
  {
   "cell_type": "markdown",
   "metadata": {},
   "source": [
    "Call the `fraction_str()` function with named arguments to produce the string `\"5/11\"`. Print the result.\n",
    "- For fun: try listing the denominator argument before the numerator argument! What happens?"
   ]
  },
  {
   "cell_type": "code",
   "execution_count": 41,
   "metadata": {},
   "outputs": [
    {
     "name": "stdout",
     "output_type": "stream",
     "text": [
      "5/11\n"
     ]
    }
   ],
   "source": [
    "test_fraction = fraction_str(5, 11)\n",
    "print(test_fraction)"
   ]
  },
  {
   "cell_type": "markdown",
   "metadata": {},
   "source": [
    "Call the `fraction_str()` function only specifying a denominator of `3`. Print the result"
   ]
  },
  {
   "cell_type": "code",
   "execution_count": 46,
   "metadata": {},
   "outputs": [
    {
     "name": "stdout",
     "output_type": "stream",
     "text": [
      "1/3\n"
     ]
    }
   ],
   "source": [
    "only_3_denominator = fraction_str(denominator = 3)\n",
    "\n",
    "print(only_3_denominator)"
   ]
  },
  {
   "cell_type": "markdown",
   "metadata": {},
   "source": [
    "Call the `fraction_str()` function using **positional arguments** (unnamed) to produce the string `\"11/5\"`. Print the result. "
   ]
  },
  {
   "cell_type": "code",
   "execution_count": 48,
   "metadata": {},
   "outputs": [
    {
     "name": "stdout",
     "output_type": "stream",
     "text": [
      "11/5\n"
     ]
    }
   ],
   "source": [
    "positional_arguments = fraction_str(11, 5)\n",
    "print(positional_arguments)"
   ]
  },
  {
   "cell_type": "code",
   "execution_count": null,
   "metadata": {},
   "outputs": [],
   "source": []
  }
 ],
 "metadata": {
  "kernelspec": {
   "display_name": "Python 3",
   "language": "python",
   "name": "python3"
  },
  "language_info": {
   "codemirror_mode": {
    "name": "ipython",
    "version": 3
   },
   "file_extension": ".py",
   "mimetype": "text/x-python",
   "name": "python",
   "nbconvert_exporter": "python",
   "pygments_lexer": "ipython3",
   "version": "3.7.3"
  },
  "toc": {
   "colors": {
    "hover_highlight": "#DAA520",
    "running_highlight": "#FF0000",
    "selected_highlight": "#FFD700"
   },
   "moveMenuLeft": true,
   "nav_menu": {
    "height": "30px",
    "width": "252px"
   },
   "navigate_menu": true,
   "number_sections": true,
   "sideBar": true,
   "threshold": 4,
   "toc_cell": false,
   "toc_section_display": "block",
   "toc_window_display": false,
   "widenNotebook": false
  }
 },
 "nbformat": 4,
 "nbformat_minor": 2
}
